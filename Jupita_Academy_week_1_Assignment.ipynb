{
 "cells": [
  {
   "cell_type": "markdown",
   "id": "9010ecaf",
   "metadata": {},
   "source": [
    "1. Data Type and Basic Arithmetic:\n",
    "\n",
    "Scenario:\n",
    "The school wants to keep track of the number of students in each grade. They currently have the following data:\n",
    "\n",
    "- Grade 1: 25 students - Grade 2: 30 students - Grade 3: 28 students\n",
    "\n",
    "You need to perform the following tasks:\n",
    "\n",
    "a. Calculate and display the total number of students.\n",
    "b. Calculate and display the average number of students per grade."
   ]
  },
  {
   "cell_type": "code",
   "execution_count": 25,
   "id": "9e39b8bd",
   "metadata": {},
   "outputs": [],
   "source": [
    "grade_1 = 25\n",
    "grade_2 = 30\n",
    "grade_3 = 28\n",
    " "
   ]
  },
  {
   "cell_type": "code",
   "execution_count": 26,
   "id": "b5ce3410",
   "metadata": {},
   "outputs": [],
   "source": [
    "total_students = grade_1 + grade_2 + grade_3"
   ]
  },
  {
   "cell_type": "code",
   "execution_count": 27,
   "id": "2c43fec1",
   "metadata": {},
   "outputs": [
    {
     "name": "stdout",
     "output_type": "stream",
     "text": [
      "83\n"
     ]
    }
   ],
   "source": [
    "print(total_students)"
   ]
  },
  {
   "cell_type": "code",
   "execution_count": 29,
   "id": "d5f51da9",
   "metadata": {},
   "outputs": [],
   "source": [
    "grades =[25, 30, 28]"
   ]
  },
  {
   "cell_type": "code",
   "execution_count": 30,
   "id": "446e4f32",
   "metadata": {},
   "outputs": [],
   "source": [
    "avr_per_grade = total_students/len(grades)"
   ]
  },
  {
   "cell_type": "code",
   "execution_count": 31,
   "id": "a3caa7af",
   "metadata": {},
   "outputs": [
    {
     "name": "stdout",
     "output_type": "stream",
     "text": [
      "27.666666666666668\n"
     ]
    }
   ],
   "source": [
    "print(avr_per_grade)"
   ]
  },
  {
   "cell_type": "code",
   "execution_count": null,
   "id": "34c46044",
   "metadata": {},
   "outputs": [],
   "source": []
  },
  {
   "cell_type": "markdown",
   "id": "a14d2e25",
   "metadata": {},
   "source": [
    "2. Variable Assignment and String Manipulation:\n",
    "\n",
    "Scenario:\n",
    "The school also wants to keep track of some important messages for different grades. They have prepared the following messages:\n",
    "\n",
    "- Grade 1: \"Welcome to Grade 1! We are excited to have you.\"\n",
    "- Grade 2: \"Hello Grade 2 students! Get ready to learn and have fun.\"\n",
    "- Grade 3: \"Welcome Grade 3 students. Let's make this a great year of learning.\"\n",
    "\n",
    "You need to perform the following tasks:\n",
    "\n",
    "a. Store the messages in variables corresponding to each grade. b. Display the messages for Grade 2."
   ]
  },
  {
   "cell_type": "code",
   "execution_count": 32,
   "id": "5d5255a5",
   "metadata": {},
   "outputs": [],
   "source": [
    "Grade1_message = \"Welcome to Grade 1! We are excited to have you.\"\n",
    "Grade2_message = \"Hello Grade 2 students! Get ready to learn and have fun.\"\n",
    "Grade3_message = \"Welcome Grade 3 students. Let's make this a great year of learning.\""
   ]
  },
  {
   "cell_type": "code",
   "execution_count": 33,
   "id": "34c65587",
   "metadata": {},
   "outputs": [
    {
     "name": "stdout",
     "output_type": "stream",
     "text": [
      "Hello Grade 2 students! Get ready to learn and have fun.\n"
     ]
    }
   ],
   "source": [
    "print(Grade2_message)"
   ]
  },
  {
   "cell_type": "code",
   "execution_count": null,
   "id": "618d16be",
   "metadata": {},
   "outputs": [],
   "source": []
  },
  {
   "cell_type": "markdown",
   "id": "d3dbf265",
   "metadata": {},
   "source": [
    "\n",
    "\n",
    "\n",
    "3. Lists and Dictionaries:\n",
    "\n",
    "Scenario:\n",
    "The school wants to store a list of subjects for each grade, along with the names of teachers who\n",
    "\n",
    " \n",
    "\n",
    "teach those subjects. Here's the data they have:\n",
    "\n",
    "- Grade 1: Subjects - Math, English, Science; Teachers - Mr. Smith, Ms. Johnson, Mr. Davis\n",
    "- Grade 2: Subjects - English, Science, History; Teachers - Ms. Williams, Mr. Davis, Ms. Brown - Grade 3: Subjects - Science, History, Math; Teachers - Ms. Davis, Mr. Johnson, Mr. Smith\n",
    "\n",
    "You need to perform the following tasks:\n",
    "\n",
    "1. Create a list of grades\n",
    "\n",
    "2. Create a list of subjects for each grade.\n",
    "\n",
    "3. Create a dictionary where keys are the grade names and values are lists of teachers for\n",
    "\n",
    "each grade.\n",
    "\n",
    "4. Display the subjects taught in Grade 3.\n",
    "\n",
    "5. Display the values of Grade 2 in the dictionary."
   ]
  },
  {
   "cell_type": "code",
   "execution_count": 18,
   "id": "57d2160d",
   "metadata": {},
   "outputs": [],
   "source": [
    "# No.3.1\n",
    "\n",
    "grade_list = [\"grade1\", \"grade2\", \"grade3\"]"
   ]
  },
  {
   "cell_type": "code",
   "execution_count": 19,
   "id": "ed8e0daf",
   "metadata": {},
   "outputs": [],
   "source": [
    "# No.3.2\n",
    "\n",
    "grade1_sub =[\"Maths\", \"English\", \"Science\"]\n",
    "grade2_sub = [\"English\", \"Science\", \"History\"]\n",
    "grade3_sub = [\"Science\", \" History\", \"Maths\"]"
   ]
  },
  {
   "cell_type": "code",
   "execution_count": 21,
   "id": "60249f08",
   "metadata": {},
   "outputs": [
    {
     "data": {
      "text/plain": [
       "{'grade1': ['Mr. Smith', 'Ms. Johnson', 'Mr. Davis'],\n",
       " 'grade2': ['Ms. Williams', 'Mr. Davis', 'Ms. Brown'],\n",
       " 'grade3': ['Ms. Davis', 'Mr. Johnson', 'Mr. Smith']}"
      ]
     },
     "execution_count": 21,
     "metadata": {},
     "output_type": "execute_result"
    }
   ],
   "source": [
    "# No.3.3\n",
    "\n",
    "dict_grade = {\"grade1\" : [\"Mr. Smith\", \"Ms. Johnson\", \"Mr. Davis\"], \"grade2\": [\"Ms. Williams\", \"Mr. Davis\", \"Ms. Brown\"], \n",
    "             \"grade3\": [\"Ms. Davis\", \"Mr. Johnson\", \"Mr. Smith\"]}\n",
    "dict_grade"
   ]
  },
  {
   "cell_type": "code",
   "execution_count": 22,
   "id": "ed4eb8e8",
   "metadata": {},
   "outputs": [
    {
     "data": {
      "text/plain": [
       "['English', 'Science', 'History']"
      ]
     },
     "execution_count": 22,
     "metadata": {},
     "output_type": "execute_result"
    }
   ],
   "source": [
    "#No.3.4\n",
    "\n",
    "grade2_sub"
   ]
  },
  {
   "cell_type": "code",
   "execution_count": 24,
   "id": "e3d474d0",
   "metadata": {},
   "outputs": [
    {
     "data": {
      "text/plain": [
       "['Ms. Williams', 'Mr. Davis', 'Ms. Brown']"
      ]
     },
     "execution_count": 24,
     "metadata": {},
     "output_type": "execute_result"
    }
   ],
   "source": [
    "#No.3.5\n",
    "\n",
    "dict_grade[\"grade2\"]"
   ]
  },
  {
   "cell_type": "code",
   "execution_count": null,
   "id": "4159d10c",
   "metadata": {},
   "outputs": [],
   "source": []
  }
 ],
 "metadata": {
  "kernelspec": {
   "display_name": "Python 3 (ipykernel)",
   "language": "python",
   "name": "python3"
  },
  "language_info": {
   "codemirror_mode": {
    "name": "ipython",
    "version": 3
   },
   "file_extension": ".py",
   "mimetype": "text/x-python",
   "name": "python",
   "nbconvert_exporter": "python",
   "pygments_lexer": "ipython3",
   "version": "3.11.5"
  }
 },
 "nbformat": 4,
 "nbformat_minor": 5
}
